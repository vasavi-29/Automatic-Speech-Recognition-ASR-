{
  "cells": [
    {
      "cell_type": "code",
      "execution_count": null,
      "metadata": {
        "id": "JFIL4_wPjORz"
      },
      "outputs": [],
      "source": [
        "import pandas as pd\n",
        "import numpy as np\n",
        "import tensorflow as tf\n",
        "from tensorflow import keras\n",
        "from tensorflow import keras\n",
        "import matplotlib as plt\n",
        "from IPython import display\n"
      ]
    },
    {
      "cell_type": "code",
      "execution_count": null,
      "metadata": {
        "colab": {
          "base_uri": "https://localhost:8080/"
        },
        "id": "-ov5bKfzj5Hw",
        "outputId": "0edeef01-6a81-493b-f3b5-f0412d972b35"
      },
      "outputs": [
        {
          "name": "stdout",
          "output_type": "stream",
          "text": [
            "Looking in indexes: https://pypi.org/simple, https://us-python.pkg.dev/colab-wheels/public/simple/\n",
            "Collecting jiwer\n",
            "  Downloading jiwer-3.0.1-py3-none-any.whl (21 kB)\n",
            "Requirement already satisfied: click<9.0.0,>=8.1.3 in /usr/local/lib/python3.9/dist-packages (from jiwer) (8.1.3)\n",
            "Collecting rapidfuzz==2.13.7\n",
            "  Downloading rapidfuzz-2.13.7-cp39-cp39-manylinux_2_17_x86_64.manylinux2014_x86_64.whl (2.2 MB)\n",
            "\u001b[2K     \u001b[90m━━━━━━━━━━━━━━━━━━━━━━━━━━━━━━━━━━━━━━━━\u001b[0m \u001b[32m2.2/2.2 MB\u001b[0m \u001b[31m21.2 MB/s\u001b[0m eta \u001b[36m0:00:00\u001b[0m\n",
            "\u001b[?25hInstalling collected packages: rapidfuzz, jiwer\n",
            "Successfully installed jiwer-3.0.1 rapidfuzz-2.13.7\n"
          ]
        }
      ],
      "source": [
        "!pip install jiwer\n",
        "from jiwer import wer"
      ]
    },
    {
      "cell_type": "code",
      "execution_count": null,
      "metadata": {
        "colab": {
          "base_uri": "https://localhost:8080/"
        },
        "id": "Ui1Tu6AdkPfQ",
        "outputId": "70be269f-994a-41f9-a8ce-a9f240094d33"
      },
      "outputs": [
        {
          "name": "stdout",
          "output_type": "stream",
          "text": [
            "Downloading data from https://data.keithito.com/data/speech/LJSpeech-1.1.tar.bz2\n",
            "2748572632/2748572632 [==============================] - 33s 0us/step\n"
          ]
        }
      ],
      "source": [
        "data_url=\"https://data.keithito.com/data/speech/LJSpeech-1.1.tar.bz2\"\n",
        "data_path=keras.utils.get_file(\"LJSpeech-1.1\",data_url,untar=True)"
      ]
    },
    {
      "cell_type": "code",
      "execution_count": null,
      "metadata": {
        "id": "OmC9zB7AkyhA"
      },
      "outputs": [],
      "source": [
        "wav_path=data_path+\"/wavs\"\n",
        "metadata_path=data_path+\"/metadata.csv\""
      ]
    },
    {
      "cell_type": "code",
      "execution_count": null,
      "metadata": {
        "id": "Qc9r6Xdzom1y"
      },
      "outputs": [],
      "source": [
        "metadata_df=pd.read_csv(metadata_path,sep=\"|\" ,header=None,quoting=1)"
      ]
    },
    {
      "cell_type": "code",
      "execution_count": null,
      "metadata": {
        "id": "G-PN8LSepB0d"
      },
      "outputs": [],
      "source": [
        "metadata_df.tail()"
      ]
    },
    {
      "cell_type": "code",
      "execution_count": null,
      "metadata": {
        "colab": {
          "base_uri": "https://localhost:8080/",
          "height": 206
        },
        "id": "INu-vQhbpUqp",
        "outputId": "8b38617f-bb98-43cd-dbd7-e93ee594700e"
      },
      "outputs": [
        {
          "data": {
            "text/html": [
              "\n",
              "  <div id=\"df-ed950d55-f13f-438e-b5a3-36f4cd2cf8a7\">\n",
              "    <div class=\"colab-df-container\">\n",
              "      <div>\n",
              "<style scoped>\n",
              "    .dataframe tbody tr th:only-of-type {\n",
              "        vertical-align: middle;\n",
              "    }\n",
              "\n",
              "    .dataframe tbody tr th {\n",
              "        vertical-align: top;\n",
              "    }\n",
              "\n",
              "    .dataframe thead th {\n",
              "        text-align: right;\n",
              "    }\n",
              "</style>\n",
              "<table border=\"1\" class=\"dataframe\">\n",
              "  <thead>\n",
              "    <tr style=\"text-align: right;\">\n",
              "      <th></th>\n",
              "      <th>file_name</th>\n",
              "      <th>transcription</th>\n",
              "    </tr>\n",
              "  </thead>\n",
              "  <tbody>\n",
              "    <tr>\n",
              "      <th>0</th>\n",
              "      <td>LJ047-0214</td>\n",
              "      <td>End quote. Mr. Bouck pointed out, however, tha...</td>\n",
              "    </tr>\n",
              "    <tr>\n",
              "      <th>1</th>\n",
              "      <td>LJ040-0220</td>\n",
              "      <td>could have led anyone to predict the outburst ...</td>\n",
              "    </tr>\n",
              "    <tr>\n",
              "      <th>2</th>\n",
              "      <td>LJ018-0174</td>\n",
              "      <td>and the prominent part he played secured for h...</td>\n",
              "    </tr>\n",
              "    <tr>\n",
              "      <th>3</th>\n",
              "      <td>LJ029-0068</td>\n",
              "      <td>The adequacy of the intelligence system mainta...</td>\n",
              "    </tr>\n",
              "    <tr>\n",
              "      <th>4</th>\n",
              "      <td>LJ047-0162</td>\n",
              "      <td>that Oswald was living alone in Dallas because...</td>\n",
              "    </tr>\n",
              "  </tbody>\n",
              "</table>\n",
              "</div>\n",
              "      <button class=\"colab-df-convert\" onclick=\"convertToInteractive('df-ed950d55-f13f-438e-b5a3-36f4cd2cf8a7')\"\n",
              "              title=\"Convert this dataframe to an interactive table.\"\n",
              "              style=\"display:none;\">\n",
              "        \n",
              "  <svg xmlns=\"http://www.w3.org/2000/svg\" height=\"24px\"viewBox=\"0 0 24 24\"\n",
              "       width=\"24px\">\n",
              "    <path d=\"M0 0h24v24H0V0z\" fill=\"none\"/>\n",
              "    <path d=\"M18.56 5.44l.94 2.06.94-2.06 2.06-.94-2.06-.94-.94-2.06-.94 2.06-2.06.94zm-11 1L8.5 8.5l.94-2.06 2.06-.94-2.06-.94L8.5 2.5l-.94 2.06-2.06.94zm10 10l.94 2.06.94-2.06 2.06-.94-2.06-.94-.94-2.06-.94 2.06-2.06.94z\"/><path d=\"M17.41 7.96l-1.37-1.37c-.4-.4-.92-.59-1.43-.59-.52 0-1.04.2-1.43.59L10.3 9.45l-7.72 7.72c-.78.78-.78 2.05 0 2.83L4 21.41c.39.39.9.59 1.41.59.51 0 1.02-.2 1.41-.59l7.78-7.78 2.81-2.81c.8-.78.8-2.07 0-2.86zM5.41 20L4 18.59l7.72-7.72 1.47 1.35L5.41 20z\"/>\n",
              "  </svg>\n",
              "      </button>\n",
              "      \n",
              "  <style>\n",
              "    .colab-df-container {\n",
              "      display:flex;\n",
              "      flex-wrap:wrap;\n",
              "      gap: 12px;\n",
              "    }\n",
              "\n",
              "    .colab-df-convert {\n",
              "      background-color: #E8F0FE;\n",
              "      border: none;\n",
              "      border-radius: 50%;\n",
              "      cursor: pointer;\n",
              "      display: none;\n",
              "      fill: #1967D2;\n",
              "      height: 32px;\n",
              "      padding: 0 0 0 0;\n",
              "      width: 32px;\n",
              "    }\n",
              "\n",
              "    .colab-df-convert:hover {\n",
              "      background-color: #E2EBFA;\n",
              "      box-shadow: 0px 1px 2px rgba(60, 64, 67, 0.3), 0px 1px 3px 1px rgba(60, 64, 67, 0.15);\n",
              "      fill: #174EA6;\n",
              "    }\n",
              "\n",
              "    [theme=dark] .colab-df-convert {\n",
              "      background-color: #3B4455;\n",
              "      fill: #D2E3FC;\n",
              "    }\n",
              "\n",
              "    [theme=dark] .colab-df-convert:hover {\n",
              "      background-color: #434B5C;\n",
              "      box-shadow: 0px 1px 3px 1px rgba(0, 0, 0, 0.15);\n",
              "      filter: drop-shadow(0px 1px 2px rgba(0, 0, 0, 0.3));\n",
              "      fill: #FFFFFF;\n",
              "    }\n",
              "  </style>\n",
              "\n",
              "      <script>\n",
              "        const buttonEl =\n",
              "          document.querySelector('#df-ed950d55-f13f-438e-b5a3-36f4cd2cf8a7 button.colab-df-convert');\n",
              "        buttonEl.style.display =\n",
              "          google.colab.kernel.accessAllowed ? 'block' : 'none';\n",
              "\n",
              "        async function convertToInteractive(key) {\n",
              "          const element = document.querySelector('#df-ed950d55-f13f-438e-b5a3-36f4cd2cf8a7');\n",
              "          const dataTable =\n",
              "            await google.colab.kernel.invokeFunction('convertToInteractive',\n",
              "                                                     [key], {});\n",
              "          if (!dataTable) return;\n",
              "\n",
              "          const docLinkHtml = 'Like what you see? Visit the ' +\n",
              "            '<a target=\"_blank\" href=https://colab.research.google.com/notebooks/data_table.ipynb>data table notebook</a>'\n",
              "            + ' to learn more about interactive tables.';\n",
              "          element.innerHTML = '';\n",
              "          dataTable['output_type'] = 'display_data';\n",
              "          await google.colab.output.renderOutput(dataTable, element);\n",
              "          const docLink = document.createElement('div');\n",
              "          docLink.innerHTML = docLinkHtml;\n",
              "          element.appendChild(docLink);\n",
              "        }\n",
              "      </script>\n",
              "    </div>\n",
              "  </div>\n",
              "  "
            ],
            "text/plain": [
              "    file_name                                      transcription\n",
              "0  LJ047-0214  End quote. Mr. Bouck pointed out, however, tha...\n",
              "1  LJ040-0220  could have led anyone to predict the outburst ...\n",
              "2  LJ018-0174  and the prominent part he played secured for h...\n",
              "3  LJ029-0068  The adequacy of the intelligence system mainta...\n",
              "4  LJ047-0162  that Oswald was living alone in Dallas because..."
            ]
          },
          "execution_count": 26,
          "metadata": {},
          "output_type": "execute_result"
        }
      ],
      "source": [
        " metadata_df.columns=[\"file_name\",\"transcription\",\"normalized_transcription\"]\n",
        " metadata_df=metadata_df[[\"file_name\",\"transcription\"]]\n",
        " metadata_df=metadata_df.sample(frac=1).reset_index(drop=True)\n",
        " metadata_df.head(5)"
      ]
    },
    {
      "cell_type": "code",
      "execution_count": null,
      "metadata": {
        "colab": {
          "base_uri": "https://localhost:8080/"
        },
        "id": "jzBNp14_qBkS",
        "outputId": "396693e2-4136-406d-a90e-d3fbe279c537"
      },
      "outputs": [
        {
          "name": "stdout",
          "output_type": "stream",
          "text": [
            "size of the trianing set:11790\n",
            "size of the testing set:1310\n"
          ]
        }
      ],
      "source": [
        " #We now split the data into training and validation set\n",
        "split=int(len(metadata_df)*0.90)\n",
        "df_train=metadata_df[:split]\n",
        "df_val=metadata_df[split:]\n",
        "\n",
        "print(f\"size of the trianing set:{len(df_train)}\")\n",
        "print(f\"size of the testing set:{len(df_val)}\")"
      ]
    },
    {
      "cell_type": "code",
      "execution_count": null,
      "metadata": {
        "id": "UYohu5VYrbTs"
      },
      "outputs": [],
      "source": [
        "#preprocessing\n",
        "#We first prepare the vocabulary needed"
      ]
    },
    {
      "cell_type": "code",
      "execution_count": null,
      "metadata": {
        "colab": {
          "base_uri": "https://localhost:8080/"
        },
        "id": "r9Wt2nVyrs_b",
        "outputId": "0ca898b6-7890-4faa-a688-6ada6597429d"
      },
      "outputs": [
        {
          "name": "stdout",
          "output_type": "stream",
          "text": [
            "The vocabulary is:['', 'a', 'b', 'c', 'd', 'e', 'f', 'g', 'h', 'i', 'j', 'k', 'l', 'm', 'n', 'o', 'p', 'q', 'r', 's', 't', 'u', 'v', 'w', 'x', 'y', 'z', \"'\", '?', '!', ' '](size=31\n"
          ]
        }
      ],
      "source": [
        "#The set of characters accepted in the transcription\n",
        "characters=[x for x in \"abcdefghijklmnopqrstuvwxyz'?! \"]\n",
        "#Mapping characters to integers\n",
        "char_to_num=keras.layers.StringLookup(vocabulary=characters,oov_token=\"\")\n",
        "#mapping integers back to original characters\n",
        "num_to_char=keras.layers.StringLookup(vocabulary=char_to_num.get_vocabulary(),oov_token=\"\",invert=True)\n",
        "print(f\"The vocabulary is:{char_to_num.get_vocabulary()}\"f\"(size={char_to_num.vocabulary_size()}\")"
      ]
    },
    {
      "cell_type": "code",
      "execution_count": null,
      "metadata": {
        "colab": {
          "base_uri": "https://localhost:8080/"
        },
        "id": "-9_9BcsBtqnR",
        "outputId": "6a072944-cc43-43a8-e0d3-dfdeb5e88848"
      },
      "outputs": [
        {
          "data": {
            "text/plain": [
              "<keras.layers.preprocessing.string_lookup.StringLookup at 0x7ffa858e9790>"
            ]
          },
          "execution_count": 30,
          "metadata": {},
          "output_type": "execute_result"
        }
      ],
      "source": [
        "  char_to_num                                                                                                        "
      ]
    },
    {
      "cell_type": "code",
      "execution_count": null,
      "metadata": {
        "id": "K1xPcZw5u9Td"
      },
      "outputs": [],
      "source": [
        " #an integer scaler tensor.The window length in samples\n",
        " frame_length=250\n",
        " #an integer scaler tensor.The number of samples to step\n",
        " frame_step=160\n",
        " #an integer scaler tensor.The size of the FFT to apply.\n",
        " fft_length=384\n",
        "\n",
        " def encode_single_sample(wav_file,label):\n",
        "   #1.read wav file\n",
        "   file=tf.io.read_file(wav_path+wav_file+\".wav\")\n",
        "\n",
        "   #2.decode the wav file\n",
        "   audio,_=tf.audio.decode_wav(file)\n",
        "   audio=tf.squeeze(audio,axis=1)\n",
        "\n",
        "   #3.change type to float\n",
        "   audio=tf.cast(audio,tf.float32)\n",
        "\n",
        "   #4.get the spectrogram\n",
        "   spectrogram=tf.signal.stft(audio,frame_length=frame_length,frame_step=frame_step,fft_length=fft_length)\n",
        "\n",
        "   #5.we only need the magnitude,which can be derived by applying tf.abs\n",
        "   spectrogram=tf.abs(spectrogram)\n",
        "   spectrogram=tf.math.pow(spectrogram,0.5)\n",
        "\n",
        "   #6.normalization\n",
        "   means=tf.math.reduce_mean(spectrogram,1,keepdims=True)\n",
        "   stddevs=tf.math.reduce_std(spectrogram,1,keepdims=True)\n",
        "   spectrogram=(spectrogram-means)/(stddevs+1e-10)\n",
        "\n",
        "   #7.convert label to lower case\n",
        "   label=tf.strings.lower(label)\n",
        "\n",
        "   #8.split the model\n",
        "   label=tf.strings.unicode_split(label,input_encoding=\"UTF-8\")\n",
        "\n",
        "   #9.map the characters in label to numbers\n",
        "   label=char_to_num(label)\n",
        "\n",
        "   #10.return a dict as our model is expecting two inputs\n",
        "   return spectrogram,label"
      ]
    },
    {
      "cell_type": "markdown",
      "metadata": {
        "id": "Tj3WVipP1j92"
      },
      "source": [
        "<h3>Creating Dataset Objects</h3>\n"
      ]
    },
    {
      "cell_type": "code",
      "execution_count": null,
      "metadata": {
        "id": "etCVF15z0tHD"
      },
      "outputs": [],
      "source": [
        "batch_size=32\n",
        "#define the training dataset\n",
        "train_dataset=tf.data.Dataset.from_tensor_slices(\n",
        "    (list(df_train[\"file_name\"]),list(df_train[\"transcription\"]))\n",
        ")\n",
        "train_dataset=(\n",
        "    train_dataset.map(encode_single_sample,num_parallel_calls=tf.data.AUTOTUNE)\n",
        "    .padded_batch(batch_size)\n",
        "    .prefetch(buffer_size=tf.data.AUTOTUNE)\n",
        ")\n",
        "#Define the validation dataset\n",
        "validation_dataset=tf.data.Dataset.from_tensor_slices(\n",
        "    (list(df_val[\"file_name\"]),list(df_val[\"transcription\"]))\n",
        ")\n",
        "validation_dataset=(\n",
        "    validation_dataset.map(encode_single_sample,num_parallel_calls=tf.data.AUTOTUNE)\n",
        "    .padded_batch(batch_size)\n",
        "    .prefetch(buffer_size=tf.data.AUTOTUNE)\n",
        ")\n"
      ]
    },
    {
      "cell_type": "markdown",
      "metadata": {
        "id": "0MXpAGDS4FIK"
      },
      "source": [
        "<h3><b>Visualizing<b></h3>"
      ]
    },
    {
      "cell_type": "code",
      "execution_count": null,
      "metadata": {
        "id": "n36qxJKy3MRY"
      },
      "outputs": [],
      "source": [
        "import matplotlib.pyplot as plt\n",
        "fig=plt.figure(figsize=(8,5))\n",
        "for batch in train_dataset.take(1):\n",
        "  spectrogram=batch[0][0].numpy()\n",
        "  spectrogram=np.array([np.trim_zeros(x) for x in np.transpose(spectrogram)])\n",
        "  label=batch[1][0]\n",
        "\n",
        "  #spectrogram\n",
        "  label=tf.stringss.reduce_join(num_to_char(label)).numpy().decode(\"utf-8\")\n",
        "  ax=plt.subplot(2,1,1)\n",
        "  ax.imshow(spectrogram,vmax=1)\n",
        "  ax.set_title(label)\n",
        "  ax.axis(\"off\")\n",
        "\n",
        "  #wav\n",
        "  file=tf.io.read_file(wav_path+list(df_train[\"file_name\"])[0]+\".wav\")\n",
        "  audio,_=tf.audio.decode_wav(file)\n",
        "  audio=audio.numpy()\n",
        "  ax=plt.subplot(2,1,2)\n",
        "  plt.plot(audio)\n",
        "  ax.set_title(\"signal wave\")\n",
        "  ax.set_xlim(0,len(audio))\n",
        "  display.display(display.Audio(np.transpose(audio),rate=16000))\n",
        "plt.show()"
      ]
    },
    {
      "cell_type": "code",
      "execution_count": null,
      "metadata": {
        "id": "XfamqK5C50aT"
      },
      "outputs": [],
      "source": [
        "def CTCLoss(y_true,y_pred):\n",
        "  batch_len=tf.cast(tf.shape(y_true)[0],dtype=\"int64\")\n",
        "  input_length=tf.cast(tf.shape(y_pred)[1],dtype=\"int64\")\n",
        "  label_length=tf.cast(tf.shape(y_true)[1],dtype=\"int64\")\n",
        "\n",
        "  input_length=input_length*tf.ones(shape=(batch_len,1),dtype=\"int64\")\n",
        "  label_length=label_length*tf.ones(shape=(batch_len,1),dtype=\"int64\")\n",
        "\n",
        "  loss=keras.backend.ctc_batch_cost(y_true,y_pred,input_length,label_length)\n",
        "  return loss"
      ]
    },
    {
      "cell_type": "code",
      "execution_count": null,
      "metadata": {
        "colab": {
          "base_uri": "https://localhost:8080/"
        },
        "id": "Bi7o36Mt84fp",
        "outputId": "320089d3-2b3d-4f88-bc61-039657a100b7"
      },
      "outputs": [
        {
          "name": "stdout",
          "output_type": "stream",
          "text": [
            "Model: \"DeepSpeech_2\"\n",
            "______________________________________________________________________________________________________________\n",
            " Layer (type)                                    Output Shape                                Param #          \n",
            "==============================================================================================================\n",
            " input (InputLayer)                              [(None, None, 193)]                         0                \n",
            "                                                                                                              \n",
            " expand_dim (Reshape)                            (None, None, 193, 1)                        0                \n",
            "                                                                                                              \n",
            " conv_1 (Conv2D)                                 (None, None, 97, 32)                        14432            \n",
            "                                                                                                              \n",
            " conv_1_bn (BatchNormalization)                  (None, None, 97, 32)                        128              \n",
            "                                                                                                              \n",
            " conv_1_relu (ReLU)                              (None, None, 97, 32)                        0                \n",
            "                                                                                                              \n",
            " conv_2 (Conv2D)                                 (None, None, 49, 32)                        461824           \n",
            "                                                                                                              \n",
            " conv_2_bn (BatchNormalization)                  (None, None, 49, 32)                        128              \n",
            "                                                                                                              \n",
            " conv_2_relu (ReLU)                              (None, None, 49, 32)                        0                \n",
            "                                                                                                              \n",
            " reshape_3 (Reshape)                             (None, None, 1568)                          0                \n",
            "                                                                                                              \n",
            " bidirectional_1 (Bidirectional)                 (None, None, 1024)                          6395904          \n",
            "                                                                                                              \n",
            " dropout_15 (Dropout)                            (None, None, 1024)                          0                \n",
            "                                                                                                              \n",
            " bidirectional_2 (Bidirectional)                 (None, None, 1024)                          4724736          \n",
            "                                                                                                              \n",
            " dropout_16 (Dropout)                            (None, None, 1024)                          0                \n",
            "                                                                                                              \n",
            " bidirectional_3 (Bidirectional)                 (None, None, 1024)                          4724736          \n",
            "                                                                                                              \n",
            " dropout_17 (Dropout)                            (None, None, 1024)                          0                \n",
            "                                                                                                              \n",
            " bidirectional_4 (Bidirectional)                 (None, None, 1024)                          4724736          \n",
            "                                                                                                              \n",
            " dropout_18 (Dropout)                            (None, None, 1024)                          0                \n",
            "                                                                                                              \n",
            " bidirectional_5 (Bidirectional)                 (None, None, 1024)                          4724736          \n",
            "                                                                                                              \n",
            " dense_1 (Dense)                                 (None, None, 1024)                          1049600          \n",
            "                                                                                                              \n",
            " dense_2_relu (ReLU)                             (None, None, 1024)                          0                \n",
            "                                                                                                              \n",
            " dropout_19 (Dropout)                            (None, None, 1024)                          0                \n",
            "                                                                                                              \n",
            " dense_3 (Dense)                                 (None, None, 32)                            32800            \n",
            "                                                                                                              \n",
            "==============================================================================================================\n",
            "Total params: 26,853,760\n",
            "Trainable params: 26,853,632\n",
            "Non-trainable params: 128\n",
            "______________________________________________________________________________________________________________\n"
          ]
        }
      ],
      "source": [
        "from tensorflow.keras import layers\n",
        "from tensorflow.keras.layers import Conv2D\n",
        "\n",
        "def build_model(input_dim,output_dim,rnn_layers=5,rnn_units=128):\n",
        "  input_spectrogram=layers.Input((None,input_dim),name=\"input\")\n",
        "  x=layers.Reshape((-1,input_dim,1),name=\"expand_dim\")(input_spectrogram)\n",
        "  #convulation layer 1\n",
        "  x=layers.Conv2D(\n",
        "      filters=32,kernel_size=[11,41],strides=[2,2],padding=\"same\",use_bias=False,\n",
        "      name=\"conv_1\"\n",
        "  )(x)\n",
        "  x=layers.BatchNormalization(name=\"conv_1_bn\")(x)\n",
        "  x=layers.ReLU(name=\"conv_1_relu\")(x)\n",
        "\n",
        "  #convulation layer2\n",
        "  x=layers.Conv2D(\n",
        "      filters=32,kernel_size=[11,41],strides=[2,2],padding=\"same\",use_bias=False,\n",
        "      name=\"conv_2\"\n",
        "  )(x)\n",
        "  x=layers.BatchNormalization(name=\"conv_2_bn\")(x)\n",
        "  x=layers.ReLU(name=\"conv_2_relu\")(x)\n",
        "\n",
        "  x=layers.Reshape((-1,x.shape[-2]*x.shape[-1]))(x)\n",
        "\n",
        "  #RNN layers\n",
        "  for i in range(1,rnn_layers+1):\n",
        "    recurrent=layers.GRU(\n",
        "        units=rnn_units,\n",
        "        activation=\"tanh\",recurrent_activation=\"sigmoid\",use_bias=True,return_sequences=True,\n",
        "        reset_after=True,name=f\"gru_{i}\",\n",
        "    )\n",
        "    x=layers.Bidirectional(\n",
        "        recurrent,name=f\"bidirectional_{i}\",merge_mode=\"concat\"\n",
        "    )(x)\n",
        "    if i<rnn_layers:\n",
        "      x=layers.Dropout(rate=0.5)(x)\n",
        "\n",
        "  #Dense layer\n",
        "  x=layers.Dense(units=rnn_units*2,name=\"dense_1\")(x)\n",
        "  x=layers.ReLU(name=\"dense_2_relu\")(x)\n",
        "  x=layers.Dropout(rate=0.5)(x)\n",
        "  output=layers.Dense(units=output_dim+1,activation=\"softmax\")(x)\n",
        "  model=keras.Model(input_spectrogram,output,name=\"DeepSpeech_2\")\n",
        "  opt=keras.optimizers.Adam(learning_rate=1e-4)\n",
        "  model.compile(optimizer=opt,loss=CTCLoss)\n",
        "  return model\n",
        "\n",
        "model=build_model(\n",
        "    input_dim=fft_length//2+1,\n",
        "    output_dim=char_to_num.vocabulary_size(),\n",
        "    rnn_units=512,\n",
        ")\n",
        "model.summary(line_length=110)\n"
      ]
    },
    {
      "cell_type": "markdown",
      "metadata": {
        "id": "nz-IERjjD9Gl"
      },
      "source": [
        "<h3>Training and Evaluating</h3>"
      ]
    },
    {
      "cell_type": "code",
      "execution_count": null,
      "metadata": {
        "id": "_0HRhko_CFV7"
      },
      "outputs": [],
      "source": [
        "def decode_batch_prediction(pred):\n",
        "  input_len=np.ones(pred.shape[0])*pred.shape[1]\n",
        "  results=keras.backend.ctc_decode(pred,input_length=input_len,greedy=True)[0][0]\n",
        "  output_text=[]\n",
        "  for result in results:\n",
        "    result=tf.strings.reduce_join(num_to_char(result)).numpy().decode(\"utf-8\")\n",
        "    output_text.append(result)\n",
        "  return output_text\n",
        "\n",
        "  class CallbackEval(keras.callbacks.Callback):\n",
        "    def on_epoch_end(self,epoch:int,logs=None):\n",
        "      predictions=[]\n",
        "      targets=[]\n",
        "      for batch in self.dataset:\n",
        "        X,y=batch\n",
        "        batch_predictions=model.predict(X)\n",
        "        batch_predictions=decode_batch_predictions(batch_predictions)\n",
        "        predictions.extend(batch_predictions)\n",
        "        for label in y:\n",
        "          label=(\n",
        "              tf.strings.reduce_join(num_to_char(label)).numpy().decode(\"utf-8\")\n",
        "          )\n",
        "          targets.append(label)\n",
        "      wer_score=wer(targets,predictions)\n",
        "      print(\"-\"*100)\n",
        "      print(\"-\"*100)\n",
        "      for i in np.random.randint(0,len(predictions),2):\n",
        "        print(f\"Target:{targets[i]}\")\n",
        "        print(f\"Prediction:{predictions[i]}\")\n",
        "        print(\"-\"*100)\n",
        "        #training process\n",
        "      epochs=2\n",
        "      validation_callback=CallbackEval(validation_dataset)\n",
        "      history=model.fit(train_dataset,validation_data=validation_dataset,\n",
        "                  epochs=epochs,callbacks=[validation_callback],\n",
        "                  )\n",
        "\n"
      ]
    },
    {
      "cell_type": "code",
      "execution_count": 42,
      "metadata": {
        "colab": {
          "base_uri": "https://localhost:8080/",
          "height": 415
        },
        "id": "TYOyYsUkJif3",
        "outputId": "58ef2eff-f62a-4cc2-9b8f-8c9ddb36f843"
      },
      "outputs": [
        {
          "output_type": "error",
          "ename": "NotFoundError",
          "evalue": "ignored",
          "traceback": [
            "\u001b[0;31m---------------------------------------------------------------------------\u001b[0m",
            "\u001b[0;31mNotFoundError\u001b[0m                             Traceback (most recent call last)",
            "\u001b[0;32m<ipython-input-42-5e7083062583>\u001b[0m in \u001b[0;36m<cell line: 4>\u001b[0;34m()\u001b[0m\n\u001b[1;32m      2\u001b[0m \u001b[0mpredictions\u001b[0m\u001b[0;34m=\u001b[0m\u001b[0;34m[\u001b[0m\u001b[0;34m]\u001b[0m\u001b[0;34m\u001b[0m\u001b[0;34m\u001b[0m\u001b[0m\n\u001b[1;32m      3\u001b[0m \u001b[0mtargets\u001b[0m\u001b[0;34m=\u001b[0m\u001b[0;34m[\u001b[0m\u001b[0;34m]\u001b[0m\u001b[0;34m\u001b[0m\u001b[0;34m\u001b[0m\u001b[0m\n\u001b[0;32m----> 4\u001b[0;31m \u001b[0;32mfor\u001b[0m \u001b[0mbatch\u001b[0m \u001b[0;32min\u001b[0m \u001b[0mvalidation_dataset\u001b[0m\u001b[0;34m:\u001b[0m\u001b[0;34m\u001b[0m\u001b[0;34m\u001b[0m\u001b[0m\n\u001b[0m\u001b[1;32m      5\u001b[0m   \u001b[0mX\u001b[0m\u001b[0;34m,\u001b[0m\u001b[0my\u001b[0m\u001b[0;34m=\u001b[0m\u001b[0mbatch\u001b[0m\u001b[0;34m\u001b[0m\u001b[0;34m\u001b[0m\u001b[0m\n\u001b[1;32m      6\u001b[0m   \u001b[0mbatch_predictions\u001b[0m\u001b[0;34m=\u001b[0m\u001b[0mmodel\u001b[0m\u001b[0;34m.\u001b[0m\u001b[0mpredict\u001b[0m\u001b[0;34m(\u001b[0m\u001b[0mX\u001b[0m\u001b[0;34m)\u001b[0m\u001b[0;34m\u001b[0m\u001b[0;34m\u001b[0m\u001b[0m\n",
            "\u001b[0;32m/usr/local/lib/python3.9/dist-packages/tensorflow/python/data/ops/iterator_ops.py\u001b[0m in \u001b[0;36m__next__\u001b[0;34m(self)\u001b[0m\n\u001b[1;32m    795\u001b[0m   \u001b[0;32mdef\u001b[0m \u001b[0m__next__\u001b[0m\u001b[0;34m(\u001b[0m\u001b[0mself\u001b[0m\u001b[0;34m)\u001b[0m\u001b[0;34m:\u001b[0m\u001b[0;34m\u001b[0m\u001b[0;34m\u001b[0m\u001b[0m\n\u001b[1;32m    796\u001b[0m     \u001b[0;32mtry\u001b[0m\u001b[0;34m:\u001b[0m\u001b[0;34m\u001b[0m\u001b[0;34m\u001b[0m\u001b[0m\n\u001b[0;32m--> 797\u001b[0;31m       \u001b[0;32mreturn\u001b[0m \u001b[0mself\u001b[0m\u001b[0;34m.\u001b[0m\u001b[0m_next_internal\u001b[0m\u001b[0;34m(\u001b[0m\u001b[0;34m)\u001b[0m\u001b[0;34m\u001b[0m\u001b[0;34m\u001b[0m\u001b[0m\n\u001b[0m\u001b[1;32m    798\u001b[0m     \u001b[0;32mexcept\u001b[0m \u001b[0merrors\u001b[0m\u001b[0;34m.\u001b[0m\u001b[0mOutOfRangeError\u001b[0m\u001b[0;34m:\u001b[0m\u001b[0;34m\u001b[0m\u001b[0;34m\u001b[0m\u001b[0m\n\u001b[1;32m    799\u001b[0m       \u001b[0;32mraise\u001b[0m \u001b[0mStopIteration\u001b[0m\u001b[0;34m\u001b[0m\u001b[0;34m\u001b[0m\u001b[0m\n",
            "\u001b[0;32m/usr/local/lib/python3.9/dist-packages/tensorflow/python/data/ops/iterator_ops.py\u001b[0m in \u001b[0;36m_next_internal\u001b[0;34m(self)\u001b[0m\n\u001b[1;32m    778\u001b[0m     \u001b[0;31m# to communicate that there is no more data to iterate over.\u001b[0m\u001b[0;34m\u001b[0m\u001b[0;34m\u001b[0m\u001b[0m\n\u001b[1;32m    779\u001b[0m     \u001b[0;32mwith\u001b[0m \u001b[0mcontext\u001b[0m\u001b[0;34m.\u001b[0m\u001b[0mexecution_mode\u001b[0m\u001b[0;34m(\u001b[0m\u001b[0mcontext\u001b[0m\u001b[0;34m.\u001b[0m\u001b[0mSYNC\u001b[0m\u001b[0;34m)\u001b[0m\u001b[0;34m:\u001b[0m\u001b[0;34m\u001b[0m\u001b[0;34m\u001b[0m\u001b[0m\n\u001b[0;32m--> 780\u001b[0;31m       ret = gen_dataset_ops.iterator_get_next(\n\u001b[0m\u001b[1;32m    781\u001b[0m           \u001b[0mself\u001b[0m\u001b[0;34m.\u001b[0m\u001b[0m_iterator_resource\u001b[0m\u001b[0;34m,\u001b[0m\u001b[0;34m\u001b[0m\u001b[0;34m\u001b[0m\u001b[0m\n\u001b[1;32m    782\u001b[0m           \u001b[0moutput_types\u001b[0m\u001b[0;34m=\u001b[0m\u001b[0mself\u001b[0m\u001b[0;34m.\u001b[0m\u001b[0m_flat_output_types\u001b[0m\u001b[0;34m,\u001b[0m\u001b[0;34m\u001b[0m\u001b[0;34m\u001b[0m\u001b[0m\n",
            "\u001b[0;32m/usr/local/lib/python3.9/dist-packages/tensorflow/python/ops/gen_dataset_ops.py\u001b[0m in \u001b[0;36miterator_get_next\u001b[0;34m(iterator, output_types, output_shapes, name)\u001b[0m\n\u001b[1;32m   3014\u001b[0m       \u001b[0;32mreturn\u001b[0m \u001b[0m_result\u001b[0m\u001b[0;34m\u001b[0m\u001b[0;34m\u001b[0m\u001b[0m\n\u001b[1;32m   3015\u001b[0m     \u001b[0;32mexcept\u001b[0m \u001b[0m_core\u001b[0m\u001b[0;34m.\u001b[0m\u001b[0m_NotOkStatusException\u001b[0m \u001b[0;32mas\u001b[0m \u001b[0me\u001b[0m\u001b[0;34m:\u001b[0m\u001b[0;34m\u001b[0m\u001b[0;34m\u001b[0m\u001b[0m\n\u001b[0;32m-> 3016\u001b[0;31m       \u001b[0m_ops\u001b[0m\u001b[0;34m.\u001b[0m\u001b[0mraise_from_not_ok_status\u001b[0m\u001b[0;34m(\u001b[0m\u001b[0me\u001b[0m\u001b[0;34m,\u001b[0m \u001b[0mname\u001b[0m\u001b[0;34m)\u001b[0m\u001b[0;34m\u001b[0m\u001b[0;34m\u001b[0m\u001b[0m\n\u001b[0m\u001b[1;32m   3017\u001b[0m     \u001b[0;32mexcept\u001b[0m \u001b[0m_core\u001b[0m\u001b[0;34m.\u001b[0m\u001b[0m_FallbackException\u001b[0m\u001b[0;34m:\u001b[0m\u001b[0;34m\u001b[0m\u001b[0;34m\u001b[0m\u001b[0m\n\u001b[1;32m   3018\u001b[0m       \u001b[0;32mpass\u001b[0m\u001b[0;34m\u001b[0m\u001b[0;34m\u001b[0m\u001b[0m\n",
            "\u001b[0;32m/usr/local/lib/python3.9/dist-packages/tensorflow/python/framework/ops.py\u001b[0m in \u001b[0;36mraise_from_not_ok_status\u001b[0;34m(e, name)\u001b[0m\n\u001b[1;32m   7260\u001b[0m \u001b[0;32mdef\u001b[0m \u001b[0mraise_from_not_ok_status\u001b[0m\u001b[0;34m(\u001b[0m\u001b[0me\u001b[0m\u001b[0;34m,\u001b[0m \u001b[0mname\u001b[0m\u001b[0;34m)\u001b[0m\u001b[0;34m:\u001b[0m\u001b[0;34m\u001b[0m\u001b[0;34m\u001b[0m\u001b[0m\n\u001b[1;32m   7261\u001b[0m   \u001b[0me\u001b[0m\u001b[0;34m.\u001b[0m\u001b[0mmessage\u001b[0m \u001b[0;34m+=\u001b[0m \u001b[0;34m(\u001b[0m\u001b[0;34m\" name: \"\u001b[0m \u001b[0;34m+\u001b[0m \u001b[0mname\u001b[0m \u001b[0;32mif\u001b[0m \u001b[0mname\u001b[0m \u001b[0;32mis\u001b[0m \u001b[0;32mnot\u001b[0m \u001b[0;32mNone\u001b[0m \u001b[0;32melse\u001b[0m \u001b[0;34m\"\"\u001b[0m\u001b[0;34m)\u001b[0m\u001b[0;34m\u001b[0m\u001b[0;34m\u001b[0m\u001b[0m\n\u001b[0;32m-> 7262\u001b[0;31m   \u001b[0;32mraise\u001b[0m \u001b[0mcore\u001b[0m\u001b[0;34m.\u001b[0m\u001b[0m_status_to_exception\u001b[0m\u001b[0;34m(\u001b[0m\u001b[0me\u001b[0m\u001b[0;34m)\u001b[0m \u001b[0;32mfrom\u001b[0m \u001b[0;32mNone\u001b[0m  \u001b[0;31m# pylint: disable=protected-access\u001b[0m\u001b[0;34m\u001b[0m\u001b[0;34m\u001b[0m\u001b[0m\n\u001b[0m\u001b[1;32m   7263\u001b[0m \u001b[0;34m\u001b[0m\u001b[0m\n\u001b[1;32m   7264\u001b[0m \u001b[0;34m\u001b[0m\u001b[0m\n",
            "\u001b[0;31mNotFoundError\u001b[0m: {{function_node __wrapped__IteratorGetNext_output_types_2_device_/job:localhost/replica:0/task:0/device:CPU:0}} /root/.keras/datasets/LJSpeech-1.1/wavsLJ013-0171.wav; No such file or directory\n\t [[{{node ReadFile}}]] [Op:IteratorGetNext]"
          ]
        }
      ],
      "source": [
        "#Let's check results on more validation samples\n",
        "predictions=[]\n",
        "targets=[]\n",
        "for batch in validation_dataset:\n",
        "  X,y=batch\n",
        "  batch_predictions=model.predict(X)\n",
        "  batch_predictions=decode_batch_predictions(batch_predictions)\n",
        "  predictions.extend(batch_predictions)\n",
        "  for label in y:\n",
        "    label=tf.strings.reduce_join(num_to_char(label)).numpy().decode(\"utf-8\")\n",
        "    targets.append(label)\n",
        "wer_score=wer(targets,predictions)\n",
        "print(\"-\"*100)\n",
        "print(f\"word error rate:{wer_score:4f}\")\n",
        "print(\"-\"*100)\n",
        "for i in np.random.randint(0,len(predictions),5):\n",
        "  print(f\"target:{targets[i]}\")\n",
        "  print(f\"prediction:\")"
      ]
    },
    {
      "cell_type": "code",
      "execution_count": null,
      "metadata": {
        "id": "Ya_tmC_BPxTz"
      },
      "outputs": [],
      "source": []
    }
  ],
  "metadata": {
    "colab": {
      "provenance": []
    },
    "kernelspec": {
      "display_name": "Python 3",
      "name": "python3"
    },
    "language_info": {
      "name": "python"
    }
  },
  "nbformat": 4,
  "nbformat_minor": 0
}